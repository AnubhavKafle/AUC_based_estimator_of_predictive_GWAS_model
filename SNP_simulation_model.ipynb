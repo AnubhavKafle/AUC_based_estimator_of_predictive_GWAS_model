{
 "cells": [
  {
   "cell_type": "code",
   "execution_count": null,
   "metadata": {},
   "outputs": [],
   "source": [
    "#Python script for simulating genetic data based on different genetic models\n",
    "#Author: Anubhav Kaphle\n",
    "#Date created : 28 AUG 2021\n",
    "import numpy as np\n",
    "import pandas as pd\n",
    "import os\n",
    "import sys\n",
    "import fire\n",
    "import random"
   ]
  },
  {
   "cell_type": "code",
   "execution_count": null,
   "metadata": {},
   "outputs": [],
   "source": [
    "#use this function for checking\n",
    "def checkOR(Ds, Hn, Dh, Hs, OR_data):\n",
    "    OR = Ds*Hn / (Dh*Hs)\n",
    "    if np.isclose(OR, OR_data, rtol=0.01):\n",
    "        print(\"All good\")\n",
    "    else:\n",
    "        sys.exit(1)"
   ]
  },
  {
   "cell_type": "code",
   "execution_count": null,
   "metadata": {},
   "outputs": [],
   "source": [
    "#Hs is count of risk allele in non-disease state\n",
    "#Hn is count of non-risk allele in non-disease state\n",
    "#Ds is count of risk allele in disease state\n",
    "#Dn is count of non-risk allele in disease state\n",
    "\n",
    "def CreateGeno(Odd_ratio, Ncases, Ncontrol, maf, model):\n",
    "    #Compute allele counts for cases and controls\n",
    "    Hs  = np.ceil(2*Ncontrol*maf)\n",
    "    Hn  = 2*Ncontrol - Hs\n",
    "    Ds  = np.ceil((2*Odd_ratio*Ncases*Hs) / (Hn+Odd_ratio*Hs))\n",
    "    Dn  = 2*Ncases - Ds\n",
    "    \n",
    "    case_risk_allele    = np.repeat(1,Ds)\n",
    "    case_nonrisk_allele = np.repeat(0,Dn)\n",
    "    cases_allele_pool   = np.concatenate((case_risk_allele, case_nonrisk_allele))\n",
    "    random.shuffle(cases_allele_pool )\n",
    "    index               = np.arange(cases_allele_pool.shape[0])\n",
    "    random.shuffle(index)\n",
    "    random.shuffle(index)\n",
    "    index_half          = np.random.choice(index,int(cases_allele_pool.shape[0]/2) , replace=False)\n",
    "    mask                = np.ones(cases_allele_pool.shape,dtype=bool)\n",
    "    mask[index_half]    = False\n",
    "    \n",
    "    control_risk_allele     = np.repeat(1,Hs)\n",
    "    control_nonrisk_allele  = np.repeat(0,Hn)\n",
    "    control_allele_pool     = np.concatenate((control_risk_allele, control_nonrisk_allele))\n",
    "    random.shuffle(control_allele_pool)\n",
    "    \n",
    "    index_2                 = np.arange(control_allele_pool.shape[0])\n",
    "    random.shuffle(index_2)\n",
    "    random.shuffle(index_2)\n",
    "    index_half_2            = np.random.choice(index_2,int(control_allele_pool.shape[0]/2) , replace=False)\n",
    "    mask_2                  = np.ones(control_allele_pool.shape,dtype=bool)\n",
    "    mask_2[index_half_2]    = False\n",
    "    \n",
    "    sum_case     = cases_allele_pool[index_half] + cases_allele_pool[mask]\n",
    "    sum_control  = control_allele_pool[index_half_2] + control_allele_pool[mask_2]\n",
    "     \n",
    "    #additive model assumes linear increase effect with linear increase in allele count, numerical {0,1,2} coding\n",
    "    if model.lower() == \"additive\":     #coding risk allele as 1 and non-risk as 0\n",
    "        return(np.concatenate((sum_case, sum_control)))\n",
    "\n",
    "    elif model.lower() == \"dominant\":  #dominant allele is when even one presence will effect trait, binary coding here\n",
    "        genotype_case    =  [1 if i in [1,2] else 0 for i in sum_case]\n",
    "        genotype_control =  [1 if i in [1,2] else 0 for i in sum_control]\n",
    "        return(np.concatenate((genotype_case,genotype_control)))\n",
    "       \n",
    "    elif model.lower() == \"recessive\": # recessive allele is effective when both are present, binary coding here as well\n",
    "        genotype_case    =  [1 if i == 2 else 0 for i in sum_case]\n",
    "        genotype_control =  [1 if i == 2 else 0 for i in sum_control]\n",
    "        return(np.concatenate((genotype_case,genotype_control)))\n",
    "    else:\n",
    "        print(\"No other models possible. Please check this column in your original file\")\n",
    "        sys.exit(1)"
   ]
  },
  {
   "cell_type": "code",
   "execution_count": null,
   "metadata": {},
   "outputs": [],
   "source": [
    "#frequency of effect allele is maf. No. of cases and control in the GWAS for all SNPs is assumed to be constant. \n",
    "#This can be changed\n",
    "def CreateData(pgs_file, outpath=None, Ncases=50000, Ncontrol=50000, model=\"additive\"):\n",
    "    data      = pd.read_csv(pgs_file,sep='\\t')\n",
    "    snp_id    = list(data.rsID)\n",
    "    maf       = np.array(data.MAF)\n",
    "    odd_ratio = np.array(data.OR)\n",
    "    model     = np.array(data.Model)\n",
    "    \n",
    "    #flip allele if OR is <1 and change corresponding MAF by substracting from 1\n",
    "    for i, j in enumerate(odd_ratio): \n",
    "        if j < 1:\n",
    "            odd_ratio[i]=1/j\n",
    "            maf[i]=1-maf[i]\n",
    "        \n",
    "    #diseased state is labelled 1 and non-diseased state as 0\n",
    "    indiv_labels = np.concatenate((np.repeat(1,Ncases),np.repeat(0,Ncontrol)))\n",
    "    indiv_ids    = np.array([\"ID_{0}\".format(i) for i in np.arange(Ncases+Ncontrol)])\n",
    "    genotype_data = np.hstack((indiv_ids.reshape(indiv_ids.shape[0],1),indiv_labels.reshape(indiv_labels.shape[0],1)))\n",
    "    for i in range(maf.shape[0]):\n",
    "        genotype = CreateGeno(odd_ratio[i], Ncases, Ncontrol, maf[i], model[i])\n",
    "        print(\"completed generating data for SNP {0} with model {1}\".format(snp_id[i],model[i]))\n",
    "        genotype_data=np.hstack((genotype_data,genotype.reshape(genotype.shape[0],1)))\n",
    "        \n",
    "        \n",
    "    Genotype_dataframe = pd.DataFrame(genotype_data,columns=[\"ID\",\"class\"]+snp_id)\n",
    "    \n",
    "    outfile = outpath + \"/\" + \"Simulated_genotype_data.txt\"\n",
    "    \n",
    "    #If file size is too big, use compression in the arguement compression='gzip' or maybe use python HD5 filetype\n",
    "    Genotype_dataframe.to_csv(outfile\n",
    "         , sep='\\t'\n",
    "         , header=True\n",
    "         , index=False\n",
    "         , chunksize=100000\n",
    "         , encoding='utf-8')\n",
    "    \n",
    "    print(\"Program ends here\")"
   ]
  },
  {
   "cell_type": "code",
   "execution_count": null,
   "metadata": {},
   "outputs": [],
   "source": [
    "pgs_file=\"/Users/user/Desktop/Halogen_Health_work/AUC_based_estimator_of_predictive_GWAS_model/PGS000147_formatted.txt\"\n",
    "\n",
    "CreateData(pgs_file, outpath=\"/Users/user/Desktop/Halogen_Health_work/AUC_based_estimator_of_predictive_GWAS_model\", Ncases=5000, Ncontrol=10000, model=\"additive\")"
   ]
  },
  {
   "cell_type": "code",
   "execution_count": null,
   "metadata": {},
   "outputs": [],
   "source": [
    "if __name__ == '__main__':\n",
    "    fire.Fire()"
   ]
  }
 ],
 "metadata": {
  "kernelspec": {
   "display_name": "Python 3",
   "language": "python",
   "name": "python3"
  },
  "language_info": {
   "codemirror_mode": {
    "name": "ipython",
    "version": 3
   },
   "file_extension": ".py",
   "mimetype": "text/x-python",
   "name": "python",
   "nbconvert_exporter": "python",
   "pygments_lexer": "ipython3",
   "version": "3.7.7"
  }
 },
 "nbformat": 4,
 "nbformat_minor": 4
}
